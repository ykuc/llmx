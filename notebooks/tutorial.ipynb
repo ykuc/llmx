{
 "cells": [
  {
   "cell_type": "code",
   "metadata": {
    "ExecuteTime": {
     "end_time": "2025-04-17T16:17:32.747025Z",
     "start_time": "2025-04-17T16:17:32.715863Z"
    }
   },
   "source": [
    "from llmx import  llm, TextGenerationConfig\n",
    "import os\n",
    "from dotenv import load_dotenv"
   ],
   "outputs": [],
   "execution_count": 14
  },
  {
   "metadata": {
    "ExecuteTime": {
     "end_time": "2025-04-17T16:17:34.407141Z",
     "start_time": "2025-04-17T16:17:34.400581Z"
    }
   },
   "cell_type": "code",
   "source": "load_dotenv()",
   "outputs": [
    {
     "data": {
      "text/plain": [
       "True"
      ]
     },
     "execution_count": 15,
     "metadata": {},
     "output_type": "execute_result"
    }
   ],
   "execution_count": 15
  },
  {
   "cell_type": "code",
   "metadata": {
    "ExecuteTime": {
     "end_time": "2025-04-17T16:15:44.964765Z",
     "start_time": "2025-04-17T16:15:44.962121Z"
    }
   },
   "source": [
    "config = TextGenerationConfig( \n",
    "    n=1,\n",
    "    temperature=0.8,\n",
    "    max_tokens=100,\n",
    "    top_p=1.0,\n",
    "    top_k=50,\n",
    "    frequency_penalty=0.0,\n",
    "    presence_penalty=0.0,\n",
    ")\n",
    "messages = [\n",
    "    {\"role\": \"system\", \"content\": \"You are a helpful assistant that can explain concepts clearly to a 6 year old child.\"},\n",
    "    {\"role\": \"user\", \"content\": \"What is  gravity?\"}\n",
    "]"
   ],
   "outputs": [],
   "execution_count": 13
  },
  {
   "attachments": {},
   "cell_type": "markdown",
   "metadata": {},
   "source": [
    "## llmx Supports Multiple Providers \n",
    "\n",
    "### OpenAI"
   ]
  },
  {
   "cell_type": "code",
   "execution_count": 3,
   "metadata": {},
   "outputs": [
    {
     "name": "stdout",
     "output_type": "stream",
     "text": [
      "Gravity is like a big invisible force that pulls things towards each other. It's what keeps us on the ground and makes things fall down instead of floating away. Imagine if you threw a ball up in the air, gravity would pull it back down to the ground. It's like a super strong magnet that pulls everything together.\n"
     ]
    }
   ],
   "source": [
    "openai_gen = llm(provider=\"openai\", api_key=os.environ[\"OPENAI_API_KEY\"])\n",
    "openai_config = TextGenerationConfig(model=\"gpt-3.5-turbo\", use_cache=True)\n",
    "openai_response = openai_gen.generate(messages, config=openai_config)\n",
    "print(openai_response.text[0].content)"
   ]
  },
  {
   "metadata": {},
   "cell_type": "markdown",
   "source": " ### Nebius Ai"
  },
  {
   "metadata": {
    "ExecuteTime": {
     "end_time": "2025-04-17T16:17:59.846724Z",
     "start_time": "2025-04-17T16:17:38.440681Z"
    }
   },
   "cell_type": "code",
   "source": [
    "openai_gen = llm(provider=\"openai\")\n",
    "openai_config = TextGenerationConfig(model=\"nvidia/Llama-3_1-Nemotron-Ultra-253B-v1\", use_cache=True)\n",
    "openai_response = openai_gen.generate(messages, config=openai_config)\n",
    "print(openai_response.text[0].content)"
   ],
   "outputs": [
    {
     "name": "stdout",
     "output_type": "stream",
     "text": [
      "Oh boy, are you ready for a cool secret about the universe? \n",
      "\n",
      "**Gravity** is like a magic string that pulls everything towards each other! But don't worry, it's not actual magic – it's just how the world works.\n",
      "\n",
      "Imagine you have a big hug for your favorite toy or stuffed animal. You want to keep it close to you, right? That's kind of like what gravity does, but instead of arms, it uses an invisible force. \n",
      "\n",
      "Here's how it works:\n",
      "\n",
      "1. **The Earth is giving you a big hug**: The Earth is pulling on you with its gravity, which keeps your feet on the ground. That's why you don't float off into space when you're standing outside!\n",
      "2. **You're also hugging the Earth back**: Your body has gravity too, but it's much weaker than the Earth's. So, you're pulling the Earth towards you, but it's so heavy that it doesn't move. Isn't that funny? \n",
      "3. **Everything is hugging each other**: All things in the world – like you, your toys, even the Moon – have gravity. That means everything is pulling on everything else, all the time!\n",
      "\n",
      "So, gravity is like a never-ending, invisible hug that keeps us all connected and on the ground. Pretty cool, huh?\n",
      "\n",
      "Do you have any other questions about gravity or the universe? I'm here to help!\n"
     ]
    }
   ],
   "execution_count": 16
  },
  {
   "cell_type": "markdown",
   "metadata": {},
   "source": [
    "### Azure OpenAI"
   ]
  },
  {
   "cell_type": "code",
   "execution_count": 9,
   "metadata": {},
   "outputs": [
    {
     "name": "stdout",
     "output_type": "stream",
     "text": [
      "Gravity is like a big invisible force that pulls things towards each other. It's what keeps us on the ground and makes things fall down when we drop them. It's like a big hug from the Earth that keeps us close to it.\n"
     ]
    }
   ],
   "source": [
    "from dotenv import load_dotenv \n",
    "\n",
    "load_dotenv(override=True)\n",
    "\n",
    "azure_openai_gen = llm(\n",
    "    provider=\"openai\",\n",
    "    api_type=\"azure\",\n",
    "    azure_endpoint=os.environ[\"AZURE_OPENAI_BASE\"],\n",
    "    api_key=os.environ[\"AZURE_OPENAI_API_KEY\"],\n",
    "    api_version=\"2023-07-01-preview\",\n",
    ")\n",
    "openai_config = TextGenerationConfig(model=\"gpt-35-turbo-0613\", use_cache=True)\n",
    "openai_response = azure_openai_gen.generate(messages, config=openai_config)\n",
    "print(openai_response.text[0].content)"
   ]
  },
  {
   "cell_type": "markdown",
   "metadata": {},
   "source": [
    "### PaLM (Google) \n",
    "\n"
   ]
  },
  {
   "cell_type": "markdown",
   "metadata": {},
   "source": [
    "#### PaLM: MakerSuite API \n",
    "\n",
    "- Visit [https://makersuite.google.com/](https://makersuite.google.com/) to get an api key. \n",
    "- Also note that the list of supported models might vary."
   ]
  },
  {
   "cell_type": "code",
   "execution_count": 5,
   "metadata": {},
   "outputs": [
    {
     "name": "stdout",
     "output_type": "stream",
     "text": [
      "Gravity is a force that pulls objects towards each other. The more massive an object is, the stronger its gravitational pull. The Earth is very massive, so it has a strong gravitational pull. This is why we don't float off into space. The Moon is also massive, but it is much smaller than the Earth. This means that its gravitational pull is not as strong. This is why the Moon orbits the Earth, instead of the other way around.\n",
      "\n",
      "Gravity is a very important force in the universe. It is what keeps the planets in orbit around the Sun, and it is what keeps the Moon in orbit around the Earth. It is also what keeps us on the ground. Without gravity, we would all float off into space.\n",
      "\n",
      "Gravity is a very mysterious force. We don't really know what causes it. We do know that it is related to mass, but we don't know exactly how. Scientists are still working on trying to understand gravity.\n",
      "\n",
      "One way to think about gravity is to imagine a trampoline. If you put a bowling ball in the middle of the trampoline, it will make a dent in the trampoline. If you then put a marble on the trampoline, the marble will roll towards the bowling ball. This is because the bowling ball is more massive than the marble, and it has a stronger gravitational pull.\n",
      "\n",
      "The Earth is like the bowling ball, and we are like the marble. The Earth's gravity pulls us towards the center of the Earth, which is why we don't float off into space.\n",
      "\n",
      "Gravity is a very important force in the universe. It is what keeps the planets in orbit around the Sun, and it is what keeps the Moon in orbit around the Earth. It is also what keeps us on the ground. Without gravity, we would all float off into space.\n"
     ]
    }
   ],
   "source": [
    "palm_gen = llm(\n",
    "    provider=\"palm\",\n",
    "    api_key=os.environ[\"PALM_API_KEY\"],\n",
    ")\n",
    "palm_config = TextGenerationConfig(\n",
    "    model=\"chat-bison-001\", temperature=0, use_cache=True\n",
    ")\n",
    "palm_response = palm_gen.generate(messages, config=palm_config)\n",
    "print(palm_response.text[0].content)"
   ]
  },
  {
   "cell_type": "markdown",
   "metadata": {},
   "source": [
    "#### PaLM: Vertex AI\n",
    "Uses the same API as Google Cloud AI Platform. You will need to setup a service account and download the key."
   ]
  },
  {
   "cell_type": "code",
   "execution_count": 6,
   "metadata": {},
   "outputs": [
    {
     "name": "stdout",
     "output_type": "stream",
     "text": [
      " Gravity is a force that pulls objects towards each other. It is what keeps us on the ground and keeps the planets in orbit around the sun. Gravity is always pulling on us, but we don't notice it because we are used to it. But if you jump up in the air, you will feel the force of gravity pulling you back down to the ground.\n"
     ]
    }
   ],
   "source": [
    "palm_gen = llm(\n",
    "    provider=\"palm\",\n",
    "    palm_key_file=os.environ[\"PALM_SERVICE_ACCOUNT_KEY_FILE\"],\n",
    "    project_id=os.environ[\"PALM_PROJECT_ID\"],\n",
    "    project_location=os.environ[\"PALM_PROJECT_LOCATION\"],\n",
    "    api_key=None\n",
    ")\n",
    "palm_config = TextGenerationConfig(\n",
    "    model=\"codechat-bison\", temperature=0, use_cache=True\n",
    ")\n",
    "palm_response = palm_gen.generate(messages, config=palm_config)\n",
    "print(palm_response.text[0].content)"
   ]
  },
  {
   "cell_type": "markdown",
   "metadata": {},
   "source": [
    "### Cohere"
   ]
  },
  {
   "cell_type": "code",
   "execution_count": 7,
   "metadata": {},
   "outputs": [
    {
     "name": "stdout",
     "output_type": "stream",
     "text": [
      "Gravity is a force that pulls things together. It is what makes things fall to the ground and what holds us on the earth. Gravity is a fundamental force of nature that affects everything around us. It is a property of all matter, and it is what makes things heavy. Gravity is also what causes the moon to orbit the earth and the planets to orbit the sun. It is a very important force that plays a big role in our lives.\n"
     ]
    }
   ],
   "source": [
    "cohere_gen = llm(provider=\"cohere\")\n",
    "cohere_config = TextGenerationConfig(model=\"command\", max_tokens=4050, use_cache=True)\n",
    "cohere_response = cohere_gen.generate(messages, config=cohere_config)\n",
    "print(cohere_response.text[0].content)"
   ]
  },
  {
   "cell_type": "markdown",
   "metadata": {},
   "source": [
    "### Local HuggingFace Model"
   ]
  },
  {
   "cell_type": "code",
   "execution_count": 10,
   "metadata": {},
   "outputs": [
    {
     "name": "stderr",
     "output_type": "stream",
     "text": [
      "/home/victordibia/miniconda3/envs/llmx/lib/python3.11/site-packages/tqdm/auto.py:21: TqdmWarning: IProgress not found. Please update jupyter and ipywidgets. See https://ipywidgets.readthedocs.io/en/stable/user_install.html\n",
      "  from .autonotebook import tqdm as notebook_tqdm\n",
      "/home/victordibia/miniconda3/envs/llmx/lib/python3.11/site-packages/transformers/utils/hub.py:124: FutureWarning: Using `TRANSFORMERS_CACHE` is deprecated and will be removed in v5 of Transformers. Use `HF_HOME` instead.\n",
      "  warnings.warn(\n",
      "Loading checkpoint shards: 100%|██████████| 8/8 [00:06<00:00,  1.27it/s]\n"
     ]
    }
   ],
   "source": [
    "hf_generator = llm(provider=\"hf\", model=\"HuggingFaceH4/zephyr-7b-beta\", device_map=\"auto\")"
   ]
  },
  {
   "cell_type": "code",
   "execution_count": 11,
   "metadata": {},
   "outputs": [
    {
     "name": "stdout",
     "output_type": "stream",
     "text": [
      "Gravity is a special kind of force that pulls things down towards the ground. It's what makes apples fall from trees and why we don't float away into space! Gravity is also what keeps the Earth spinning around and around, so we don't fall off! It's a very strong force that we can't see, but we can feel it pulling us down when we jump into the air. Gravity is a very important force that helps keep everything in the universe in its place!\n"
     ]
    }
   ],
   "source": [
    "hf_config = TextGenerationConfig(temperature=0, max_tokens=650, use_cache=False)\n",
    "hf_response = hf_generator.generate(messages, config=hf_config)\n",
    "print(hf_response.text[0].content)"
   ]
  }
 ],
 "metadata": {
  "kernelspec": {
   "display_name": "base",
   "language": "python",
   "name": "python3"
  },
  "language_info": {
   "codemirror_mode": {
    "name": "ipython",
    "version": 3
   },
   "file_extension": ".py",
   "mimetype": "text/x-python",
   "name": "python",
   "nbconvert_exporter": "python",
   "pygments_lexer": "ipython3",
   "version": "3.11.4"
  },
  "orig_nbformat": 4
 },
 "nbformat": 4,
 "nbformat_minor": 2
}
